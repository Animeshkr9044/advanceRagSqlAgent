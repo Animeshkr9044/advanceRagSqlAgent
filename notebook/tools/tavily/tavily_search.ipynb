{
 "cells": [
  {
   "cell_type": "code",
   "execution_count": 2,
   "metadata": {},
   "outputs": [
    {
     "data": {
      "text/plain": [
       "True"
      ]
     },
     "execution_count": 2,
     "metadata": {},
     "output_type": "execute_result"
    }
   ],
   "source": [
    "import os \n",
    "from dotenv import load_dotenv\n",
    "from langchain_community.tools.tavily_search import TavilySearchResults\n",
    "\n",
    "load_dotenv()\n"
   ]
  },
  {
   "cell_type": "code",
   "execution_count": 3,
   "metadata": {},
   "outputs": [],
   "source": [
    "search_tool = TavilySearchResults(max_results=2)"
   ]
  },
  {
   "cell_type": "code",
   "execution_count": 4,
   "metadata": {},
   "outputs": [
    {
     "data": {
      "text/plain": [
       "[{'url': 'https://www.indiaglitz.com/know-about-telangana-new-cm-revanth-reddy-telugu-news-346610',\n",
       "  'content': \"Know about Telangana's new CM-Revanth Reddy. Telangana Congress President, Anumula Revanth Reddy, is on the verge of assuming the role of the state's Chief Minister after the party's decisive ...\"},\n",
       " {'url': 'https://timesofindia.indiatimes.com/india/telangana-cm-swearing-in-ceremony-news-live-updates-congress-revanth-reddy-oath-taking/liveblog/105797180.cms',\n",
       "  'content': 'Agitated motorists\\n&mdash; timesofindia (@timesofindia)\\nTelangana CM Swearing-In Ceremony: CM Revanth Reddy leaves the venue\\nBesides CM Revanth Reddy, 11 MLAs take oath as Telangana ministers\\nMoment when he took oath as Congress\\' first Telangana CM\\nTelangana CM Revanth Reddy stands with his newly inducted cabinet in Hyderabad\\nRevanth Reddy sworn in as Telangana CM, Bhatti Vikramarka Mallu as his deputy\\nAnumula Revanth Reddy was on Thursday sworn in as the chief minister of Telangana, marking a historic moment as the first Congress CM of the youngest state in India. Reddy led his party to victory over the incumbent Bharat Rashtra Samiti (BRS) in the recent Assembly polls where the the Congress won 64 seats out of 119 as against the BRS\\'s 39.\\nCelebrations at LB Stadium\\n&mdash; timesofindia (@timesofindia)\\n\\'New chapter in history of Telangana\\': Congress MPs ahead of Revanth Reddy\\'s swearing-in as CM\\nAhead of the grand swearing-in ceremony of Telangana\\'s new Chief Minister, Revanth Reddy, Congress leaders on Thursday expressed their excitement and said that this will be a new chapter in the history of Telangana.\\n The Congress leader wrote that the time has come for Indiramma Rajyam in Telangana \"which was created with the struggle by students, sacrifices of martyrs and the iron will of Sonia Gandhi\"\\nWatch: Sonia, Rahul, Priyanka reach Hyderabad for Revanth Reddy’s swearing-in\\nIT’s the way forward for new government\\nWhile there was a clear urban and rural divide in the voting pattern in the assembly polls, another major challenge for Congress is to cut ice with urban voters and residents of Hyderabad.\\n Congress national president Mallikarjun Kharge arrives in Hyderabad, to attend the oath-taking ceremony of Telangana CM designate Revanth Reddy\\nRevanth Reddy said in the open letter that to provide democratic and transparent governance and to form a government for the welfare of weaker sections, Dalits, tribals, minorities, women and youth, he would be taking oath at LB Stadium in Hyderabad on December 7.\\n Hyderabad plastered with posters of Revanth Reddy ahead of his swearing-in as Telangana Chief Minister\\nPosters of Anumula Revanth Reddy was plastered across Hyderabad city on Thursday ahead of him taking oath as chief minister of Telangana, after the Congress party emerged victorious in the Telangana Assembly polls.\\n'}]"
      ]
     },
     "execution_count": 4,
     "metadata": {},
     "output_type": "execute_result"
    }
   ],
   "source": [
    "search_tool.invoke(\"tell me the telengana CM\")"
   ]
  },
  {
   "cell_type": "code",
   "execution_count": 8,
   "metadata": {},
   "outputs": [],
   "source": [
    "from langchain_core.tools import tool\n",
    "from langchain_community.tools.tavily_search import TavilySearchResults\n",
    "\n",
    "@tool\n",
    "def searc_with_internet(user_query: str) -> str:\n",
    "    \"\"\"Searches the internet for the given query using Tavily Search API.\"\"\"\n",
    "    search = TavilySearchResults(max_results=1)\n",
    "    return search.invoke(user_query)\n",
    "\n"
   ]
  },
  {
   "cell_type": "code",
   "execution_count": null,
   "metadata": {},
   "outputs": [],
   "source": []
  },
  {
   "cell_type": "code",
   "execution_count": null,
   "metadata": {},
   "outputs": [],
   "source": []
  }
 ],
 "metadata": {
  "kernelspec": {
   "display_name": "Python 3",
   "language": "python",
   "name": "python3"
  },
  "language_info": {
   "codemirror_mode": {
    "name": "ipython",
    "version": 3
   },
   "file_extension": ".py",
   "mimetype": "text/x-python",
   "name": "python",
   "nbconvert_exporter": "python",
   "pygments_lexer": "ipython3",
   "version": "3.10.15"
  }
 },
 "nbformat": 4,
 "nbformat_minor": 2
}
